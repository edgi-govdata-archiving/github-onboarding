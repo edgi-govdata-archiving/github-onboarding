{
 "cells": [
  {
   "cell_type": "markdown",
   "id": "a0cd56f2",
   "metadata": {},
   "source": [
    "## 🌱 Welcome to the EDGI Onboarding Notebook!\n",
    "\n",
    "This exercise is designed to help you get comfortable with:\n",
    "1. Cloning a GitHub repo\n",
    "2. Creating a new branch\n",
    "3. Creating and activating a Python virtual environment\n",
    "4. Installing dependencies\n",
    "5. Running a Jupyter notebook\n",
    "6. Making a small change to this notebook\n",
    "7. Committing and pushing your changes\n",
    "8. Opening a Pull Request (PR)\n",
    "\n",
    "✅ Your change does not need to be big! Just add one small thing — a line of code, a comment, or even a plot.\n",
    "\n",
    "⚠️ Before committing your changes, run all cells in the notebook to ensure everything works as expected, and so all outputs are up to date."
   ]
  },
  {
   "cell_type": "markdown",
   "id": "c6e0a846",
   "metadata": {},
   "source": [
    "### Before you can run a cell in this notebook, you need to install the required packages.\n",
    "\n",
    "To do that, we'll use the `requirements.txt` file in this repository. This file lists all the Python packages needed to run the code in this notebook. We'll install these packages directly into a Python virtual environment to keep them separate from your system Python installation. Please reference the `README.md` file for more detailed instructions on how to set up your environment.\n",
    "\n",
    "Inside your virtual environment (e.g., while it is \"activated\"), run the following command to install the required packages:\n",
    "```bash\n",
    "pip3 install -r requirements.txt\n",
    "```\n",
    "\n",
    "Once the Python packages have been installed, you can run the cells in this notebook. You may need to select the Python kernel that this notebook should use, if you haven't already done so. Choose the kernel that corresponds to the virtual environment you created. For help with this, we recommend Googling \"how to select a Python notebook kernel in \\<your editor\\>\" (e.g., VS Code, PyCharm, Jupyter, etc.).\n",
    "\n",
    "### Finally, make your change!\n",
    "\n",
    "Once your change is made, you can commit and push your changes to your branch, by either using git in the command line or GitHub desktop. After that, you can open a Pull Request (PR) to merge your changes into the main branch of the repository. An admin on this repo will review your PR and merge it if everything looks good!"
   ]
  },
  {
   "cell_type": "code",
   "execution_count": null,
   "id": "446aea6d",
   "metadata": {},
   "outputs": [
    {
     "data": {
      "text/html": [
       "<div>\n",
       "<style scoped>\n",
       "    .dataframe tbody tr th:only-of-type {\n",
       "        vertical-align: middle;\n",
       "    }\n",
       "\n",
       "    .dataframe tbody tr th {\n",
       "        vertical-align: top;\n",
       "    }\n",
       "\n",
       "    .dataframe thead th {\n",
       "        text-align: right;\n",
       "    }\n",
       "</style>\n",
       "<table border=\"1\" class=\"dataframe\">\n",
       "  <thead>\n",
       "    <tr style=\"text-align: right;\">\n",
       "      <th></th>\n",
       "      <th>City</th>\n",
       "      <th>AverageTempC</th>\n",
       "      <th>CO2ppm</th>\n",
       "    </tr>\n",
       "  </thead>\n",
       "  <tbody>\n",
       "    <tr>\n",
       "      <th>0</th>\n",
       "      <td>Buffalo</td>\n",
       "      <td>8.8</td>\n",
       "      <td>415</td>\n",
       "    </tr>\n",
       "    <tr>\n",
       "      <th>1</th>\n",
       "      <td>Seattle</td>\n",
       "      <td>11.3</td>\n",
       "      <td>410</td>\n",
       "    </tr>\n",
       "    <tr>\n",
       "      <th>2</th>\n",
       "      <td>Austin</td>\n",
       "      <td>20.4</td>\n",
       "      <td>420</td>\n",
       "    </tr>\n",
       "    <tr>\n",
       "      <th>3</th>\n",
       "      <td>Denver</td>\n",
       "      <td>10.1</td>\n",
       "      <td>412</td>\n",
       "    </tr>\n",
       "  </tbody>\n",
       "</table>\n",
       "</div>"
      ],
      "text/plain": [
       "      City  AverageTempC  CO2ppm\n",
       "0  Buffalo           8.8     415\n",
       "1  Seattle          11.3     410\n",
       "2   Austin          20.4     420\n",
       "3   Denver          10.1     412"
      ]
     },
     "execution_count": 3,
     "metadata": {},
     "output_type": "execute_result"
    }
   ],
   "source": [
    "# Here's a sample cell showing a use case of the Pandas library. You can run this cell by clicking the \"play\" button associated with this cell, or by pressing \"SHIFT + ENTER\" or \"SHIFT + RETURN\" on Mac.\n",
    "\n",
    "import pandas as pd\n",
    "\n",
    "data = {\n",
    "    \"City\": [\"Buffalo\", \"Seattle\", \"Austin\", \"Denver\"],\n",
    "    \"AverageTempC\": [8.8, 11.3, 20.4, 10.1],\n",
    "    \"CO2ppm\": [415, 410, 420, 412]\n",
    "}\n",
    "\n",
    "df = pd.DataFrame(data)\n",
    "df"
   ]
  }
 ],
 "metadata": {
  "kernelspec": {
   "display_name": "venv",
   "language": "python",
   "name": "python3"
  },
  "language_info": {
   "codemirror_mode": {
    "name": "ipython",
    "version": 3
   },
   "file_extension": ".py",
   "mimetype": "text/x-python",
   "name": "python",
   "nbconvert_exporter": "python",
   "pygments_lexer": "ipython3",
   "version": "3.12.0"
  }
 },
 "nbformat": 4,
 "nbformat_minor": 5
}
